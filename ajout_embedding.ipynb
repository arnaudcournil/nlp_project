{
 "cells": [
  {
   "cell_type": "code",
   "execution_count": 7,
   "metadata": {},
   "outputs": [],
   "source": [
    "from gensim.models import KeyedVectors\n",
    "import pandas as pd\n",
    "import re\n"
   ]
  },
  {
   "cell_type": "code",
   "execution_count": 8,
   "metadata": {},
   "outputs": [],
   "source": [
    "\n",
    "# Remplacez \"chemin/vers/glove.6B.50d.txt\" par le chemin de votre fichier GloVe\n",
    "chemin_glove = \"glove.6B/glove.6B.50d.txt\"\n"
   ]
  },
  {
   "cell_type": "code",
   "execution_count": 9,
   "metadata": {},
   "outputs": [],
   "source": [
    "import numpy as np\n",
    "\n",
    "embeddings_dict = {}\n",
    "with open(chemin_glove) as f:\n",
    "    for line in f:\n",
    "        values = line.split()\n",
    "        word = values[0]\n",
    "        vector = np.asarray(values[1:], \"float32\")\n",
    "        embeddings_dict[word] = vector"
   ]
  },
  {
   "cell_type": "code",
   "execution_count": 10,
   "metadata": {},
   "outputs": [
    {
     "data": {
      "text/html": [
       "<div>\n",
       "<style scoped>\n",
       "    .dataframe tbody tr th:only-of-type {\n",
       "        vertical-align: middle;\n",
       "    }\n",
       "\n",
       "    .dataframe tbody tr th {\n",
       "        vertical-align: top;\n",
       "    }\n",
       "\n",
       "    .dataframe thead th {\n",
       "        text-align: right;\n",
       "    }\n",
       "</style>\n",
       "<table border=\"1\" class=\"dataframe\">\n",
       "  <thead>\n",
       "    <tr style=\"text-align: right;\">\n",
       "      <th></th>\n",
       "      <th>word</th>\n",
       "      <th>count</th>\n",
       "      <th>en</th>\n",
       "      <th>sentiment</th>\n",
       "    </tr>\n",
       "  </thead>\n",
       "  <tbody>\n",
       "    <tr>\n",
       "      <th>0</th>\n",
       "      <td>tres</td>\n",
       "      <td>12626</td>\n",
       "      <td>Very</td>\n",
       "      <td>POSITIVE</td>\n",
       "    </tr>\n",
       "    <tr>\n",
       "      <th>1</th>\n",
       "      <td>vehicule</td>\n",
       "      <td>8204</td>\n",
       "      <td>Vehicle</td>\n",
       "      <td>MIXED</td>\n",
       "    </tr>\n",
       "    <tr>\n",
       "      <th>2</th>\n",
       "      <td>voiture</td>\n",
       "      <td>4936</td>\n",
       "      <td>Car</td>\n",
       "      <td>POSITIVE</td>\n",
       "    </tr>\n",
       "    <tr>\n",
       "      <th>3</th>\n",
       "      <td>livraison</td>\n",
       "      <td>4556</td>\n",
       "      <td>Delivery</td>\n",
       "      <td>MIXED</td>\n",
       "    </tr>\n",
       "    <tr>\n",
       "      <th>4</th>\n",
       "      <td>bien</td>\n",
       "      <td>4415</td>\n",
       "      <td>Well</td>\n",
       "      <td>MIXED</td>\n",
       "    </tr>\n",
       "    <tr>\n",
       "      <th>...</th>\n",
       "      <td>...</td>\n",
       "      <td>...</td>\n",
       "      <td>...</td>\n",
       "      <td>...</td>\n",
       "    </tr>\n",
       "    <tr>\n",
       "      <th>995</th>\n",
       "      <td>vacances</td>\n",
       "      <td>80</td>\n",
       "      <td>Holidays</td>\n",
       "      <td>MIXED</td>\n",
       "    </tr>\n",
       "    <tr>\n",
       "      <th>996</th>\n",
       "      <td>rappeler</td>\n",
       "      <td>80</td>\n",
       "      <td>Recall</td>\n",
       "      <td>POSITIVE</td>\n",
       "    </tr>\n",
       "    <tr>\n",
       "      <th>997</th>\n",
       "      <td>sais</td>\n",
       "      <td>80</td>\n",
       "      <td>Know</td>\n",
       "      <td>MIXED</td>\n",
       "    </tr>\n",
       "    <tr>\n",
       "      <th>998</th>\n",
       "      <td>madame</td>\n",
       "      <td>80</td>\n",
       "      <td>Madam.</td>\n",
       "      <td>NEGATIVE</td>\n",
       "    </tr>\n",
       "    <tr>\n",
       "      <th>999</th>\n",
       "      <td>suivre</td>\n",
       "      <td>80</td>\n",
       "      <td>Follow</td>\n",
       "      <td>POSITIVE</td>\n",
       "    </tr>\n",
       "  </tbody>\n",
       "</table>\n",
       "<p>1000 rows × 4 columns</p>\n",
       "</div>"
      ],
      "text/plain": [
       "          word  count        en sentiment\n",
       "0         tres  12626      Very  POSITIVE\n",
       "1     vehicule   8204   Vehicle     MIXED\n",
       "2      voiture   4936       Car  POSITIVE\n",
       "3    livraison   4556  Delivery     MIXED\n",
       "4         bien   4415      Well     MIXED\n",
       "..         ...    ...       ...       ...\n",
       "995   vacances     80  Holidays     MIXED\n",
       "996   rappeler     80    Recall  POSITIVE\n",
       "997       sais     80      Know     MIXED\n",
       "998     madame     80    Madam.  NEGATIVE\n",
       "999     suivre     80    Follow  POSITIVE\n",
       "\n",
       "[1000 rows x 4 columns]"
      ]
     },
     "execution_count": 10,
     "metadata": {},
     "output_type": "execute_result"
    }
   ],
   "source": [
    "df = pd.read_csv(\"most_frequent_words.csv\")\n",
    "df\n"
   ]
  },
  {
   "cell_type": "code",
   "execution_count": 11,
   "metadata": {},
   "outputs": [],
   "source": [
    "# associer le mot à son embedding\n",
    "\n",
    "df[\"embedding\"] = df[\"en\"].apply(lambda x: embeddings_dict.get(x, np.zeros(50)))"
   ]
  },
  {
   "cell_type": "code",
   "execution_count": 13,
   "metadata": {},
   "outputs": [],
   "source": [
    "words = pd.read_csv(\"most_frequent_words.csv\")[\"en\"]\n",
    "new_words = []\n",
    "for word in words:\n",
    "    if type(word) == str:\n",
    "        new_words += re.sub(r\"[^a-zA-Z ]+\", \"\", word.strip()).lower().split(\" \")\n",
    "\n",
    "new_words = list(set(new_words) - set([\"\"]))\n",
    "\n",
    "new_words = pd.DataFrame(new_words, columns=[\"en\"])"
   ]
  },
  {
   "cell_type": "code",
   "execution_count": 21,
   "metadata": {},
   "outputs": [],
   "source": [
    "\n",
    "new_words[\"embedding\"] = new_words[\"en\"].apply(lambda x: embeddings_dict.get(x, '-1'))"
   ]
  },
  {
   "cell_type": "code",
   "execution_count": 30,
   "metadata": {},
   "outputs": [
    {
     "name": "stderr",
     "output_type": "stream",
     "text": [
      "/Users/victor/opt/miniconda3/envs/tensorflow/lib/python3.9/site-packages/pandas/core/ops/array_ops.py:75: FutureWarning: elementwise comparison failed; returning scalar instead, but in the future will perform elementwise comparison\n",
      "  result = libops.scalar_compare(x.ravel(), y, op)\n"
     ]
    }
   ],
   "source": [
    "# afficher les -1\n",
    "new_words = new_words[new_words[\"embedding\"] != '-1']"
   ]
  },
  {
   "cell_type": "code",
   "execution_count": 32,
   "metadata": {},
   "outputs": [],
   "source": [
    "new_words.to_csv(\"wordsmost_frequent_with_vectors.csv\", index=False)"
   ]
  },
  {
   "cell_type": "markdown",
   "metadata": {},
   "source": [
    "## Tensorboard"
   ]
  },
  {
   "cell_type": "code",
   "execution_count": 25,
   "metadata": {},
   "outputs": [
    {
     "data": {
      "text/html": [
       "<div>\n",
       "<style scoped>\n",
       "    .dataframe tbody tr th:only-of-type {\n",
       "        vertical-align: middle;\n",
       "    }\n",
       "\n",
       "    .dataframe tbody tr th {\n",
       "        vertical-align: top;\n",
       "    }\n",
       "\n",
       "    .dataframe thead th {\n",
       "        text-align: right;\n",
       "    }\n",
       "</style>\n",
       "<table border=\"1\" class=\"dataframe\">\n",
       "  <thead>\n",
       "    <tr style=\"text-align: right;\">\n",
       "      <th></th>\n",
       "      <th>en</th>\n",
       "      <th>embedding</th>\n",
       "    </tr>\n",
       "  </thead>\n",
       "  <tbody>\n",
       "    <tr>\n",
       "      <th>0</th>\n",
       "      <td>advisers</td>\n",
       "      <td>[0.83158, 0.15111, 0.65911, -0.35074, 0.60972,...</td>\n",
       "    </tr>\n",
       "    <tr>\n",
       "      <th>1</th>\n",
       "      <td>former</td>\n",
       "      <td>[-0.53526, 0.54543, 0.11158, 0.59775, 0.30465,...</td>\n",
       "    </tr>\n",
       "    <tr>\n",
       "      <th>2</th>\n",
       "      <td>taken</td>\n",
       "      <td>[0.89173, -0.20309, -0.070216, -0.59429, 0.352...</td>\n",
       "    </tr>\n",
       "    <tr>\n",
       "      <th>3</th>\n",
       "      <td>easily</td>\n",
       "      <td>[0.22003, -0.72782, 1.1417, -0.04534, 0.1448, ...</td>\n",
       "    </tr>\n",
       "    <tr>\n",
       "      <th>4</th>\n",
       "      <td>line</td>\n",
       "      <td>[-0.22258, 0.089765, 0.45857, -0.31071, -0.169...</td>\n",
       "    </tr>\n",
       "    <tr>\n",
       "      <th>...</th>\n",
       "      <td>...</td>\n",
       "      <td>...</td>\n",
       "    </tr>\n",
       "    <tr>\n",
       "      <th>679</th>\n",
       "      <td>money</td>\n",
       "      <td>[0.59784, -0.057026, 0.97746, -0.58504, 0.3738...</td>\n",
       "    </tr>\n",
       "    <tr>\n",
       "      <th>680</th>\n",
       "      <td>secretary</td>\n",
       "      <td>[-0.14508, 0.14645, -0.76128, 0.38553, 0.74353...</td>\n",
       "    </tr>\n",
       "    <tr>\n",
       "      <th>681</th>\n",
       "      <td>fine</td>\n",
       "      <td>[-0.70315, 0.43281, -0.94625, -0.39258, 0.5245...</td>\n",
       "    </tr>\n",
       "    <tr>\n",
       "      <th>682</th>\n",
       "      <td>avette</td>\n",
       "      <td>-1</td>\n",
       "    </tr>\n",
       "    <tr>\n",
       "      <th>683</th>\n",
       "      <td>elsewhere</td>\n",
       "      <td>[0.80292, -0.42979, 0.19956, -0.31272, -0.0510...</td>\n",
       "    </tr>\n",
       "  </tbody>\n",
       "</table>\n",
       "<p>684 rows × 2 columns</p>\n",
       "</div>"
      ],
      "text/plain": [
       "            en                                          embedding\n",
       "0     advisers  [0.83158, 0.15111, 0.65911, -0.35074, 0.60972,...\n",
       "1       former  [-0.53526, 0.54543, 0.11158, 0.59775, 0.30465,...\n",
       "2        taken  [0.89173, -0.20309, -0.070216, -0.59429, 0.352...\n",
       "3       easily  [0.22003, -0.72782, 1.1417, -0.04534, 0.1448, ...\n",
       "4         line  [-0.22258, 0.089765, 0.45857, -0.31071, -0.169...\n",
       "..         ...                                                ...\n",
       "679      money  [0.59784, -0.057026, 0.97746, -0.58504, 0.3738...\n",
       "680  secretary  [-0.14508, 0.14645, -0.76128, 0.38553, 0.74353...\n",
       "681       fine  [-0.70315, 0.43281, -0.94625, -0.39258, 0.5245...\n",
       "682     avette                                                 -1\n",
       "683  elsewhere  [0.80292, -0.42979, 0.19956, -0.31272, -0.0510...\n",
       "\n",
       "[684 rows x 2 columns]"
      ]
     },
     "execution_count": 25,
     "metadata": {},
     "output_type": "execute_result"
    }
   ],
   "source": [
    "new_words"
   ]
  },
  {
   "cell_type": "code",
   "execution_count": 36,
   "metadata": {},
   "outputs": [],
   "source": [
    "# convertir la colonne 'en' en tsv metadata.tsv \n",
    "new_words[\"en\"].to_csv(\"metadata.tsv\", sep=\"\\t\", index=False, header=False)\n"
   ]
  },
  {
   "cell_type": "code",
   "execution_count": null,
   "metadata": {},
   "outputs": [],
   "source": [
    "\n",
    "# convertir la colonne 'embedding' en tsv vectors.tsv de ce format \n",
    "\"\"\"\n",
    "0.1\\t0.2\\t0.5\\t0.9\n",
    "0.2\\t0.1\\t5.0\\t0.2\n",
    "0.4\\t0.1\\t7.0\\t0.8\n",
    "\"\"\"\n",
    "\n",
    "\n",
    "new_words[\"embedding\"].apply(lambda x: \"\\t\".join([str(i) for i in x])).to_csv(\"vectors.tsv\", sep=\"\\t\", index=False, header=False)\n"
   ]
  },
  {
   "cell_type": "code",
   "execution_count": 35,
   "metadata": {},
   "outputs": [],
   "source": [
    "\n",
    "# Spécifiez le chemin du fichier TSV de sortie\n",
    "output_file_path = 'vectors.tsv'\n",
    "\n",
    "# Écrire le fichier TSV avec le format souhaité\n",
    "with open(output_file_path, 'w') as file:\n",
    "    # Écrire l'en-tête (si nécessaire)\n",
    "    # file.write('\\t'.join([f'Dim{i}' for i in range(len(df['embeddings'][0]))]) + '\\n')\n",
    "\n",
    "    # Écrire les vecteurs dans le format spécifié\n",
    "    for vector in new_words['embedding']:\n",
    "        file.write('\\t'.join(map(str, vector)) + '\\n')\n",
    "\n"
   ]
  }
 ],
 "metadata": {
  "kernelspec": {
   "display_name": "tensorflow",
   "language": "python",
   "name": "python3"
  },
  "language_info": {
   "codemirror_mode": {
    "name": "ipython",
    "version": 3
   },
   "file_extension": ".py",
   "mimetype": "text/x-python",
   "name": "python",
   "nbconvert_exporter": "python",
   "pygments_lexer": "ipython3",
   "version": "3.9.15"
  }
 },
 "nbformat": 4,
 "nbformat_minor": 2
}
